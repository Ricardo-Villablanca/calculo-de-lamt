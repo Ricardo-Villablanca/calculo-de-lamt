{
 "cells": [
  {
   "cell_type": "code",
   "execution_count": 1,
   "metadata": {},
   "outputs": [],
   "source": [
    "import numpy as np\n",
    "import pandas as pd\n",
    "import matplotlib.pyplot as plt\n",
    "import math as m"
   ]
  },
  {
   "cell_type": "markdown",
   "metadata": {},
   "source": [
    "# Datos"
   ]
  },
  {
   "cell_type": "code",
   "execution_count": 2,
   "metadata": {},
   "outputs": [],
   "source": [
    "span = 250\n",
    "\n",
    "atm_statuses =[{}, \n",
    "    {\n",
    "        't': -10,\n",
    "        'w': 0,\n",
    "        's': 11.0, \n",
    "    },{\n",
    "        't': 10,\n",
    "        'w': 130,\n",
    "        's': 11, \n",
    "    },{\n",
    "        't': -5,\n",
    "        'w': 50,\n",
    "        's': 11.0, \n",
    "    },{\n",
    "        't': 50,\n",
    "        'w': 0,\n",
    "        's': 11.0, \n",
    "    },{\n",
    "        't': 15,\n",
    "        'w': 0,\n",
    "        's': 6.5, \n",
    "    }\n",
    "]\n",
    "\n",
    "conductor = {\n",
    "    's_nominal':'185/30', #mm2\n",
    "    's_efec': 213.6, #mm2\n",
    "    'diameter': 19,#mm\n",
    "    'weight':740.8, #daN/km\n",
    "    'E':7700,#daN/mm2\n",
    "    'alfa':.0000189 #1/°C    \n",
    "}\n",
    "\n",
    "def convert_kmph_mps(kmph):\n",
    "    return kmph/3.6\n",
    "\n",
    "def convert_mm_m(mm):\n",
    "    return mm/1000\n",
    "\n",
    "def convert_m_mm(m):\n",
    "    return m*1000"
   ]
  },
  {
   "cell_type": "markdown",
   "metadata": {},
   "source": [
    "# Tabla III"
   ]
  },
  {
   "cell_type": "code",
   "execution_count": 3,
   "metadata": {
    "scrolled": true
   },
   "outputs": [
    {
     "name": "stdout",
     "output_type": "stream",
     "text": [
      "El Diametro debe ser positivo\n"
     ]
    }
   ],
   "source": [
    "def getCFromTableIII(diameter):\n",
    "    if not diameter or diameter < 0 or not isinstance(diameter, (int, float)):\n",
    "        raise Exception('El Diametro debe ser positivo')\n",
    "    \n",
    "    if diameter<=12.5:\n",
    "        return 1.2\n",
    "    elif 12.5<diameter<15.8:\n",
    "        return 1.1\n",
    "    elif diameter>=15.8:\n",
    "        return 1.0\n",
    "    else:\n",
    "        return 1.3   \n",
    "\n",
    "try:\n",
    "    getCFromTableIII(-1)\n",
    "except Exception as e:\n",
    "    print(e)\n",
    "    "
   ]
  },
  {
   "cell_type": "markdown",
   "metadata": {},
   "source": [
    "# Cargas de Viento \n",
    "### Para vanos menores a 200m\n",
    "$$W=0.75 C \\left(\\frac{V^2}{16}\\right) d$$\n",
    "### Para vanos mayores a 200m\n",
    "$$W=0.75 C \\left(\\frac{V^2}{16}\\right) d \\left(80+0.6a\\right)$$"
   ]
  },
  {
   "cell_type": "code",
   "execution_count": 4,
   "metadata": {},
   "outputs": [],
   "source": [
    "def _W(C, wind_vel, conductor_diameter, span):\n",
    "    if C and wind_vel and conductor_diameter and span <= 200:\n",
    "        return .75*C*((wind_vel**2)/16)*conductor_diameter*span\n",
    "    else:\n",
    "        return .75*C*((wind_vel**2)/16)*conductor_diameter*(80+.6*span)\n",
    "    "
   ]
  },
  {
   "cell_type": "markdown",
   "metadata": {},
   "source": [
    "# Cargas Verticales\n",
    "$$ g_v = \\frac{p}{s} \\left[\\frac{1}{daN mm^2}\\right] $$\n",
    "p : Peso del cable por unidad de longitud, en $\\frac{1}{daN.m}$ <br>\n",
    "s : Sección transversal del cable, en mm2\n",
    "\n",
    "# Cargas Horizontales\n",
    "\n",
    "$$ w=\\frac{W}{a} $$\n",
    "\n",
    "$$ g_v = \\frac{w}{s} \\left[\\frac{1}{daN mm^2}\\right] $$\n",
    "\n",
    "w : Carga del viento por unidad de longitud, en $\\frac{1}{daN.m}$ <br>\n"
   ]
  },
  {
   "cell_type": "code",
   "execution_count": 5,
   "metadata": {},
   "outputs": [],
   "source": [
    "try:\n",
    "    g = []\n",
    "    C = getCFromTableIII( conductor['diameter']) #obtener C desde la tabla con la funcion \"getCFromTableIII\"\n",
    "\n",
    "    for status  in atm_statuses: #recorrer todos los estados atmosfericos\n",
    "        if status: # evitar el estado con indice cero\n",
    "            gp = conductor['weight'] * .001 / conductor['s_efec'] # carga vertical por u. de long gp = peso/seccion en daN/m\n",
    "\n",
    "            W = _W( #calcular W con la funcion \"calcWindLoad\"\n",
    "                C, # C obtenido previamente\n",
    "                convert_kmph_mps( status['w']), # velocidad del viento para este estado, en m/s\n",
    "                convert_mm_m( conductor['diameter']), # diametro del conductor en m\n",
    "                span ) # vano de calculo en m\n",
    "\n",
    "            w = W / span #carga del viento por vano w=W/a\n",
    "\n",
    "            gv = w / conductor['s_efec'] # carga vertical por u. de long gv = w/s\n",
    "\n",
    "            _g = m.sqrt( gp**2+gv**2) # g = raiz gv2 + gp2\n",
    "\n",
    "            g.append( _g) \n",
    "\n",
    "            status['g'] = _g\n",
    "except Exception as e:\n",
    "    print('Error en la Tabla III',e)"
   ]
  },
  {
   "cell_type": "markdown",
   "metadata": {},
   "source": [
    "# Ecuación de Cambio de Estado\n",
    "\n",
    "$$  \\sigma_j^3-A\\sigma_j^2=B  $$\n",
    "\n",
    "\n",
    "Siendo:\n",
    "\n",
    "<br>\n",
    "$ A = \\sigma_i - \\alpha E(t_j-t_i)-\\frac{g_i^2a^2}{\\sigma_i^2}\\frac{E}{24} $\n",
    "<br>\n",
    "$ B = \\frac{g_j^2a^2E}{24} $"
   ]
  },
  {
   "cell_type": "code",
   "execution_count": 6,
   "metadata": {},
   "outputs": [],
   "source": [
    "class StatusChangesEcuation():\n",
    "    _ec_params = {\n",
    "                     'adm_strength' : None, \n",
    "                     'alfa' : None, \n",
    "                     'E' : None, \n",
    "                     'temp_j' : None, \n",
    "                     'temp_i' : None, \n",
    "                     'load_i' : None, \n",
    "                     'load_j' : None, \n",
    "                     'span' : None\n",
    "                 }\n",
    "    A = None\n",
    "    B = None\n",
    "    \n",
    "    def __init__(self,_input):\n",
    "        self._ec_params['strength_i'] = _input['status_i']['s'] \n",
    "        self._ec_params['strength_j'] = _input['status_j']['s'] \n",
    "        self._ec_params['alfa'] = _input['conductor']['alfa'] \n",
    "        self._ec_params['E'] = _input['conductor']['E'] \n",
    "        self._ec_params['temp_j'] = _input['status_j']['t'] \n",
    "        self._ec_params['temp_i'] = _input['status_i']['t'] \n",
    "        self._ec_params['load_i'] = _input['status_i']['g'] \n",
    "        self._ec_params['load_j'] = _input['status_j']['g'] \n",
    "        self._ec_params['span'] = _input['span']\n",
    "        \n",
    "\n",
    "    def _A(self, strength_i, alfa, E, temp_j, temp_i, load_i, span):\n",
    "        return strength_i - alfa*E*( temp_j - temp_i ) - (load_i**2)*(span**2)*E/(24*strength_i**2)\n",
    "\n",
    "    def _B(self, load_j, span, E):\n",
    "        return (load_j**2)*(span**2)*E/24\n",
    "\n",
    "    def calcStrength(self):\n",
    "\n",
    "        self.A = self._A(self._ec_params['strength_i'], \n",
    "               self._ec_params['alfa'], \n",
    "               self._ec_params['E'], \n",
    "               self._ec_params['temp_j'], \n",
    "               self._ec_params['temp_i'], \n",
    "               self._ec_params['load_i'], \n",
    "               self._ec_params['span'])\n",
    "        \n",
    "        self.B = self._B(self._ec_params['load_j'], \n",
    "               self._ec_params['span'], \n",
    "               self._ec_params['E'])\n",
    "\n",
    "        return  np.abs( \n",
    "                    np.polynomial.Polynomial([ -self.B ,0, -self.A ,1]).roots()\n",
    "                ).max()\n",
    "               \n",
    "\n",
    "    def checkStrength(self):\n",
    "\n",
    "        return np.greater( self._ec_params['strength_j'] , self.calcStrength() )\n",
    "\n"
   ]
  },
  {
   "cell_type": "code",
   "execution_count": 9,
   "metadata": {},
   "outputs": [
    {
     "name": "stdout",
     "output_type": "stream",
     "text": [
      "El Estado 5 verifica\n"
     ]
    },
    {
     "data": {
      "text/html": [
       "<div>\n",
       "<style scoped>\n",
       "    .dataframe tbody tr th:only-of-type {\n",
       "        vertical-align: middle;\n",
       "    }\n",
       "\n",
       "    .dataframe tbody tr th {\n",
       "        vertical-align: top;\n",
       "    }\n",
       "\n",
       "    .dataframe thead th {\n",
       "        text-align: right;\n",
       "    }\n",
       "</style>\n",
       "<table border=\"1\" class=\"dataframe\">\n",
       "  <thead>\n",
       "    <tr style=\"text-align: right;\">\n",
       "      <th></th>\n",
       "      <th>A</th>\n",
       "      <th>B</th>\n",
       "      <th>Tension Calculada</th>\n",
       "      <th>Tension Admisible</th>\n",
       "      <th>Verifica</th>\n",
       "    </tr>\n",
       "  </thead>\n",
       "  <tbody>\n",
       "    <tr>\n",
       "      <th>0</th>\n",
       "      <td>4.429615</td>\n",
       "      <td>241.189808</td>\n",
       "      <td>8.103004</td>\n",
       "      <td>11.0</td>\n",
       "      <td>Si</td>\n",
       "    </tr>\n",
       "    <tr>\n",
       "      <th>1</th>\n",
       "      <td>1.519015</td>\n",
       "      <td>742.938014</td>\n",
       "      <td>9.592694</td>\n",
       "      <td>11.0</td>\n",
       "      <td>Si</td>\n",
       "    </tr>\n",
       "    <tr>\n",
       "      <th>2</th>\n",
       "      <td>3.701965</td>\n",
       "      <td>252.169557</td>\n",
       "      <td>7.822722</td>\n",
       "      <td>11.0</td>\n",
       "      <td>Si</td>\n",
       "    </tr>\n",
       "    <tr>\n",
       "      <th>3</th>\n",
       "      <td>-4.302185</td>\n",
       "      <td>241.189808</td>\n",
       "      <td>6.895673</td>\n",
       "      <td>11.0</td>\n",
       "      <td>Si</td>\n",
       "    </tr>\n",
       "    <tr>\n",
       "      <th>4</th>\n",
       "      <td>0.791365</td>\n",
       "      <td>241.189808</td>\n",
       "      <td>6.500000</td>\n",
       "      <td>6.5</td>\n",
       "      <td>Si</td>\n",
       "    </tr>\n",
       "  </tbody>\n",
       "</table>\n",
       "</div>"
      ],
      "text/plain": [
       "          A           B  Tension Calculada  Tension Admisible Verifica\n",
       "0  4.429615  241.189808           8.103004               11.0       Si\n",
       "1  1.519015  742.938014           9.592694               11.0       Si\n",
       "2  3.701965  252.169557           7.822722               11.0       Si\n",
       "3 -4.302185  241.189808           6.895673               11.0       Si\n",
       "4  0.791365  241.189808           6.500000                6.5       Si"
      ]
     },
     "execution_count": 9,
     "metadata": {},
     "output_type": "execute_result"
    }
   ],
   "source": [
    "\n",
    "for n in range(1,6):\n",
    "    base = atm_statuses[n]\n",
    "    checklist = []\n",
    "    tableIX = []\n",
    "    for current_status in atm_statuses:\n",
    "        if current_status:\n",
    "            calc = StatusChangesEcuation({ \n",
    "                'status_i' : base, \n",
    "                'status_j' : current_status,\n",
    "                'conductor' : conductor,\n",
    "                'span': span\n",
    "            })\n",
    "\n",
    "            if calc.checkStrength():\n",
    "                check = 'Si'\n",
    "                checklist.append(1)\n",
    "            else:\n",
    "                check = 'No'\n",
    "                checklist.append(0)\n",
    "\n",
    "            if len(checklist)==5 and all(checklist):\n",
    "                print('El Estado {} verifica'.format(n)) \n",
    "            \n",
    "            tableIX.append([calc.A,calc.B,calc.calcStrength(),current_status['s'],check ])\n",
    "                \n",
    "pd.DataFrame(tableIX,columns=['A','B','Tension Calculada','Tension Admisible','Verifica'])"
   ]
  },
  {
   "cell_type": "code",
   "execution_count": null,
   "metadata": {},
   "outputs": [],
   "source": []
  },
  {
   "cell_type": "code",
   "execution_count": null,
   "metadata": {},
   "outputs": [],
   "source": []
  }
 ],
 "metadata": {
  "kernelspec": {
   "display_name": "Python 3",
   "language": "python",
   "name": "python3"
  },
  "language_info": {
   "codemirror_mode": {
    "name": "ipython",
    "version": 3
   },
   "file_extension": ".py",
   "mimetype": "text/x-python",
   "name": "python",
   "nbconvert_exporter": "python",
   "pygments_lexer": "ipython3",
   "version": "3.8.3"
  }
 },
 "nbformat": 4,
 "nbformat_minor": 4
}
